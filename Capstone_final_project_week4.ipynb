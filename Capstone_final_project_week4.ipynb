{
 "cells": [
  {
   "cell_type": "markdown",
   "metadata": {},
   "source": [
    "# Capstone project: Final assignment week 4 "
   ]
  },
  {
   "cell_type": "markdown",
   "metadata": {},
   "source": [
    "## Introduction/Business problem"
   ]
  },
  {
   "cell_type": "markdown",
   "metadata": {},
   "source": [
    "An US-based company has regular work travels in Rome, Naples, and Florence (Italy).\n",
    "\n",
    "The company has already found the accomodations for these recurrent stays and would like to know which are the best-rated pizza places where their employers cold have dinner\n",
    "\n",
    "**The objective of the study is to find a good trade-off between pizzeria-rating and closeness to the already chosen accomodations**\n",
    "\n",
    "The maximum distance the employers should walk from their pre-selected accomodation is 500m"
   ]
  },
  {
   "cell_type": "code",
   "execution_count": null,
   "metadata": {},
   "outputs": [],
   "source": []
  },
  {
   "cell_type": "markdown",
   "metadata": {},
   "source": [
    "## Data Section"
   ]
  },
  {
   "cell_type": "markdown",
   "metadata": {},
   "source": [
    "Data given by the companies are the three addresses of the three accomodations. \n",
    "\n",
    "Rome: 33 Via di Sant'Agata de Goti, Roma, RM\n",
    "Nample: 133, Via Stella, Napoli, NA\n",
    "Florence: 3, Via Del Leone, Firenze, FI\n",
    "\n",
    "I leverage Foursquare data to get the locations and proceed with the analysis"
   ]
  },
  {
   "cell_type": "code",
   "execution_count": null,
   "metadata": {},
   "outputs": [],
   "source": []
  },
  {
   "cell_type": "markdown",
   "metadata": {},
   "source": [
    "### Visualization of the locations with Folium"
   ]
  },
  {
   "cell_type": "code",
   "execution_count": 1,
   "metadata": {},
   "outputs": [
    {
     "name": "stdout",
     "output_type": "stream",
     "text": [
      "Libraries imported.\n"
     ]
    }
   ],
   "source": [
    "import pandas as pd\n",
    "import numpy as np\n",
    "import requests # library to handle requests\n",
    "from bs4 import BeautifulSoup\n",
    "import json # library to handle JSON files\n",
    "\n",
    "#!conda install -c conda-forge geopy --yes # uncomment this line if you haven't completed the Foursquare API lab\n",
    "from geopy.geocoders import Nominatim # convert an address into latitude and longitude values\n",
    "\n",
    "import requests # library to handle requests\n",
    "from pandas.io.json import json_normalize # tranform JSON file into a pandas dataframe\n",
    "\n",
    "# Matplotlib and associated plotting modules\n",
    "import matplotlib.cm as cm\n",
    "import matplotlib.colors as colors\n",
    "\n",
    "# import k-means from clustering stage\n",
    "from sklearn.cluster import KMeans\n",
    "\n",
    "#!conda install -c conda-forge folium=0.5.0 --yes # uncomment this line if you haven't completed the Foursquare API lab\n",
    "import folium # map rendering library\n",
    "\n",
    "print('Libraries imported.')"
   ]
  },
  {
   "cell_type": "markdown",
   "metadata": {},
   "source": [
    "### Some useful functions"
   ]
  },
  {
   "cell_type": "code",
   "execution_count": 3,
   "metadata": {},
   "outputs": [],
   "source": [
    "# function that extracts the category of the venue\n",
    "def get_category_type(row):\n",
    "    try:\n",
    "        categories_list = row['categories']\n",
    "    except:\n",
    "        categories_list = row['venue.categories']\n",
    "        \n",
    "    if len(categories_list) == 0:\n",
    "        return None\n",
    "    else:\n",
    "        return categories_list[0]['name']"
   ]
  },
  {
   "cell_type": "code",
   "execution_count": 4,
   "metadata": {},
   "outputs": [],
   "source": [
    "def get_congitute_latitude_accomodation(address):\n",
    "    geolocator = Nominatim(user_agent=\"foursquare_agent\")\n",
    "    location = geolocator.geocode(address)\n",
    "    latitude = location.latitude\n",
    "    longitude = location.longitude\n",
    "    return latitude, longitude"
   ]
  },
  {
   "cell_type": "code",
   "execution_count": 5,
   "metadata": {},
   "outputs": [],
   "source": [
    "def filter_data(dataframe):\n",
    "    # keep only columns that include venue name, and anything that is associated with location\n",
    "    filtered_columns = ['name', 'categories'] + [col for col in dataframe.columns if col.startswith('location.')] + ['id']\n",
    "    dataframe_filtered = dataframe.loc[:, filtered_columns]\n",
    "\n",
    "    # filter the category for each row\n",
    "    dataframe_filtered['categories'] = dataframe_filtered.apply(get_category_type, axis=1)\n",
    "\n",
    "    # clean column names by keeping only last term\n",
    "    dataframe_filtered.columns = [column.split('.')[-1] for column in dataframe_filtered.columns]\n",
    "\n",
    "    return dataframe_filtered"
   ]
  },
  {
   "cell_type": "code",
   "execution_count": 6,
   "metadata": {},
   "outputs": [],
   "source": [
    "def query_into_dataframe(CLIENT_ID, CLIENT_SECRET, address,ACCESS_TOKEN, VERSION, search_query, radius, LIMIT):\n",
    "    latitude, longitude = get_congitute_latitude_accomodation(address)\n",
    "    \n",
    "    url = 'https://api.foursquare.com/v2/venues/search?client_id={}&client_secret={}&ll={},{}&oauth_token={}&v={}&query={}&radius={}&limit={}'.format(CLIENT_ID, CLIENT_SECRET, latitude, longitude,ACCESS_TOKEN, VERSION, search_query, radius, LIMIT)\n",
    "    results = requests.get(url).json()\n",
    "    \n",
    "    # assign relevant part of JSON to venues\n",
    "    venues = results['response']['venues']\n",
    "\n",
    "    # tranform venues into a dataframe\n",
    "    dataframe = pd.json_normalize(venues)   \n",
    "    return dataframe, latitude, longitude"
   ]
  },
  {
   "cell_type": "code",
   "execution_count": 7,
   "metadata": {},
   "outputs": [],
   "source": [
    "def plot_map(latitude, longitude, dataframe_filtered):\n",
    "    venues_map = folium.Map(location=[latitude, longitude], zoom_start=15) # generate map centred around the Conrad Hotel\n",
    "\n",
    "    # add a red circle marker to represent the place rented\n",
    "    folium.CircleMarker(\n",
    "        [latitude, longitude],\n",
    "        radius=10,\n",
    "        color='red',\n",
    "        popup='Rented place',\n",
    "        fill = True,\n",
    "        fill_color = 'red',\n",
    "        fill_opacity = 0.6\n",
    "    ).add_to(venues_map)\n",
    "\n",
    "    # add the Italian restaurants as blue circle markers\n",
    "    for lat, lng, label in zip(dataframe_filtered.lat, dataframe_filtered.lng, dataframe_filtered.categories):\n",
    "        folium.CircleMarker(\n",
    "            [lat, lng],\n",
    "            radius=5,\n",
    "            color='blue',\n",
    "            popup=label,\n",
    "            fill = True,\n",
    "            fill_color='blue',\n",
    "            fill_opacity=0.6\n",
    "        ).add_to(venues_map)\n",
    "\n",
    "    # display map\n",
    "    return venues_map"
   ]
  },
  {
   "cell_type": "code",
   "execution_count": null,
   "metadata": {},
   "outputs": [],
   "source": []
  },
  {
   "cell_type": "code",
   "execution_count": null,
   "metadata": {},
   "outputs": [],
   "source": []
  },
  {
   "cell_type": "code",
   "execution_count": null,
   "metadata": {},
   "outputs": [],
   "source": []
  },
  {
   "cell_type": "markdown",
   "metadata": {},
   "source": [
    "#### Visualise Rome address and closeby pizza locations"
   ]
  },
  {
   "cell_type": "code",
   "execution_count": 8,
   "metadata": {},
   "outputs": [],
   "source": [
    "address = \"33 Via di Sant'Agata de Goti, Roma, RM\"\n",
    "search_query = 'Pizza'\n",
    "radius = 500 #500 meters\n",
    "df, latitude, longitude = query_into_dataframe(CLIENT_ID, CLIENT_SECRET, address,ACCESS_TOKEN, VERSION, search_query,radius,LIMIT)\n",
    "df = filter_data(df)\n",
    "venues_map = plot_map(latitude, longitude, df)\n",
    "venues_map.save('./Rome_pizzas.html')"
   ]
  },
  {
   "cell_type": "markdown",
   "metadata": {},
   "source": [
    "**html available in the Github directory**"
   ]
  },
  {
   "cell_type": "markdown",
   "metadata": {},
   "source": [
    "#### Visualise Naples address and closeby pizza locations"
   ]
  },
  {
   "cell_type": "code",
   "execution_count": null,
   "metadata": {},
   "outputs": [],
   "source": [
    "address = '133, Via Stella, Napoli, NA'\n",
    "search_query = 'Pizza'\n",
    "radius = 500 #500 meters\n",
    "df, latitude, longitude = query_into_dataframe(CLIENT_ID, CLIENT_SECRET, address,ACCESS_TOKEN, VERSION, search_query,radius,LIMIT)\n",
    "df = filter_data(df)\n",
    "venues_map = plot_map(latitude, longitude, df)\n",
    "venues_map.save('./Naples_pizzas.html')"
   ]
  },
  {
   "cell_type": "markdown",
   "metadata": {},
   "source": [
    "**html available in the Github directory**"
   ]
  },
  {
   "cell_type": "markdown",
   "metadata": {},
   "source": [
    "**There are no pizza places in 500 meters, we redo the analysis in 1000 meters**"
   ]
  },
  {
   "cell_type": "code",
   "execution_count": 9,
   "metadata": {},
   "outputs": [],
   "source": [
    "address = '133, Via Stella, Napoli, NA'\n",
    "search_query = 'Pizza'\n",
    "radius = 1000 #500 meters\n",
    "df, latitude, longitude = query_into_dataframe(CLIENT_ID, CLIENT_SECRET, address,ACCESS_TOKEN, VERSION, search_query,radius,LIMIT)\n",
    "df = filter_data(df)\n",
    "venues_map = plot_map(latitude, longitude, df)\n",
    "venues_map.save('./Naples_pizzas.html')"
   ]
  },
  {
   "cell_type": "code",
   "execution_count": null,
   "metadata": {},
   "outputs": [],
   "source": []
  },
  {
   "cell_type": "markdown",
   "metadata": {},
   "source": [
    "#### Visualise Florence address and closeby pizza locations"
   ]
  },
  {
   "cell_type": "code",
   "execution_count": 10,
   "metadata": {},
   "outputs": [],
   "source": [
    "address = '3, Via Del Leone, Firenze, FI'\n",
    "search_query = 'Pizza'\n",
    "radius = 500 #500 meters\n",
    "df, latitude, longitude = query_into_dataframe(CLIENT_ID, CLIENT_SECRET, address,ACCESS_TOKEN, VERSION, search_query,radius,LIMIT)\n",
    "df = filter_data(df)\n",
    "venues_map = plot_map(latitude, longitude, df)\n",
    "venues_map.save('./Florence_pizzas.html')"
   ]
  },
  {
   "cell_type": "markdown",
   "metadata": {
    "button": false,
    "new_sheet": false,
    "run_control": {
     "read_only": false
    }
   },
   "source": [
    "\n"
   ]
  },
  {
   "cell_type": "markdown",
   "metadata": {},
   "source": [
    "**html available in the Github directory**"
   ]
  },
  {
   "cell_type": "code",
   "execution_count": null,
   "metadata": {},
   "outputs": [],
   "source": []
  }
 ],
 "metadata": {
  "kernelspec": {
   "display_name": "Python 3",
   "language": "python",
   "name": "python3"
  },
  "language_info": {
   "codemirror_mode": {
    "name": "ipython",
    "version": 3
   },
   "file_extension": ".py",
   "mimetype": "text/x-python",
   "name": "python",
   "nbconvert_exporter": "python",
   "pygments_lexer": "ipython3",
   "version": "3.7.9"
  }
 },
 "nbformat": 4,
 "nbformat_minor": 4
}
