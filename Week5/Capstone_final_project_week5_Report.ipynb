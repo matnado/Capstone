{
 "cells": [
  {
   "cell_type": "markdown",
   "metadata": {},
   "source": [
    "# Capstone project: Final assignment week 5"
   ]
  },
  {
   "cell_type": "markdown",
   "metadata": {},
   "source": [
    "# Report"
   ]
  },
  {
   "cell_type": "markdown",
   "metadata": {},
   "source": [
    "## Introduction/Business problem"
   ]
  },
  {
   "cell_type": "markdown",
   "metadata": {},
   "source": [
    "An US-based company has regular work travels in Rome, Naples, and Florence (Italy).\n",
    "\n",
    "The company has already found the accomodations for these recurrent stays and would like to know which are the best-rated pizza places where their employers cold have dinner\n",
    "\n",
    "**The objective of the study is to find a good trade-off between pizzeria-rating and closeness to the already chosen accomodations**\n",
    "\n",
    "The maximum distance the employers should walk from their pre-selected accomodation is 500m"
   ]
  },
  {
   "cell_type": "markdown",
   "metadata": {},
   "source": [
    "## Data "
   ]
  },
  {
   "cell_type": "markdown",
   "metadata": {},
   "source": [
    "Data given by the companies are the three addresses of the three accomodations. \n",
    "\n",
    "- Rome: 33 Via di Sant'Agata de Goti, Roma, RM\n",
    "- Nample: 133, Via Stella, Napoli, NA\n",
    "- Florence: 3, Via Del Leone, Firenze, FI\n",
    "\n",
    "I need to leverage Foursquare data to get the locations and proceed with the analysis"
   ]
  },
  {
   "cell_type": "markdown",
   "metadata": {},
   "source": [
    "## Methodology"
   ]
  },
  {
   "cell_type": "markdown",
   "metadata": {},
   "source": [
    "The data analysis consists in two parts\n",
    "1. Explore the locations selling pizza closeby to the accomodation\n",
    "2. Find the one best rated, proposing more than one avenue if necessary"
   ]
  },
  {
   "cell_type": "markdown",
   "metadata": {},
   "source": [
    "**Note that, despite the limit walking distance is 500 meters, there might not be pizzas in that range. If that happens, then 1,000 will be chosen; and so on..**"
   ]
  },
  {
   "cell_type": "markdown",
   "metadata": {},
   "source": [
    "Data are displayed using folium and the best pizza place returned"
   ]
  },
  {
   "cell_type": "markdown",
   "metadata": {},
   "source": [
    "## Results"
   ]
  },
  {
   "cell_type": "markdown",
   "metadata": {},
   "source": [
    "### Visualization of all locations found"
   ]
  },
  {
   "cell_type": "markdown",
   "metadata": {},
   "source": [
    "Accomodation is in red, pizza locations in blue"
   ]
  },
  {
   "cell_type": "markdown",
   "metadata": {},
   "source": [
    "**Rome**"
   ]
  },
  {
   "cell_type": "markdown",
   "metadata": {},
   "source": [
    "![image](Rome_all_locations.png)"
   ]
  },
  {
   "cell_type": "markdown",
   "metadata": {},
   "source": [
    "**Naples**\n",
    "\n",
    "**Note that no locations was found within 500 meters. These locations are within 1,000 meters**"
   ]
  },
  {
   "cell_type": "markdown",
   "metadata": {},
   "source": [
    "![image](Naples_all_locations.png)"
   ]
  },
  {
   "cell_type": "markdown",
   "metadata": {},
   "source": [
    "**Florence**"
   ]
  },
  {
   "cell_type": "markdown",
   "metadata": {},
   "source": [
    "![image](Florence_all_locations.png)"
   ]
  },
  {
   "cell_type": "markdown",
   "metadata": {},
   "source": [
    "### Visualization of the selected location(s)"
   ]
  },
  {
   "cell_type": "markdown",
   "metadata": {},
   "source": [
    "**Rome**"
   ]
  },
  {
   "cell_type": "markdown",
   "metadata": {},
   "source": [
    "- Name: Pizza €\n",
    "- Rating: 8\n",
    "- Distance: 112 meters"
   ]
  },
  {
   "cell_type": "markdown",
   "metadata": {},
   "source": [
    "![image](Rome_selected_location.png)"
   ]
  },
  {
   "cell_type": "markdown",
   "metadata": {},
   "source": [
    "**Naples**"
   ]
  },
  {
   "cell_type": "markdown",
   "metadata": {},
   "source": [
    "Not many good locations were found so two options are considered\n",
    "\n",
    "**Option 1** (in green)\n",
    "\n",
    "- Name: Pizza & Pummarol\n",
    "- Rating: 7\n",
    "- Distance: 908 meters\n",
    "\n",
    "**Option 2** (in blue)\n",
    "\n",
    "- Name: Pronto Pizza\n",
    "- Rating: No rating\n",
    "- Distance: 752 meters"
   ]
  },
  {
   "cell_type": "markdown",
   "metadata": {},
   "source": [
    "![image](Naples_selected_location.png)"
   ]
  },
  {
   "cell_type": "markdown",
   "metadata": {},
   "source": [
    "**Florence**"
   ]
  },
  {
   "cell_type": "markdown",
   "metadata": {},
   "source": [
    "- Name: Pizza Bike\n",
    "- Rating: 7\n",
    "- Distance: 519 meters"
   ]
  },
  {
   "cell_type": "markdown",
   "metadata": {},
   "source": [
    "**Note that the location is slightly above the 500 meters distance, it says 519**"
   ]
  },
  {
   "cell_type": "markdown",
   "metadata": {},
   "source": [
    "![image](Florence_selected_location.png)"
   ]
  },
  {
   "cell_type": "markdown",
   "metadata": {},
   "source": [
    "## Discussion"
   ]
  },
  {
   "cell_type": "markdown",
   "metadata": {},
   "source": [
    "The analysis of Naples turned out to be non-trivial, with no locations found within 500 meters. When more distant locations were considered, the closest with a reasonable rating was found at 900 meters. A distance which is almost twice distance than what the company would have expected. A possible solution is for the company to find another accomodation, which would be closer to pizza places.   "
   ]
  },
  {
   "cell_type": "markdown",
   "metadata": {},
   "source": [
    "The analysis of Rome and Florence was satisfactory. Two adequate pizza places were found and suggested to the company. "
   ]
  },
  {
   "cell_type": "markdown",
   "metadata": {},
   "source": [
    "## Conclusions"
   ]
  },
  {
   "cell_type": "markdown",
   "metadata": {},
   "source": [
    "The overall analysis was successfull and was able to give to stakeholders suggestions on where to send their employers to."
   ]
  },
  {
   "cell_type": "code",
   "execution_count": null,
   "metadata": {},
   "outputs": [],
   "source": []
  },
  {
   "cell_type": "code",
   "execution_count": null,
   "metadata": {},
   "outputs": [],
   "source": []
  }
 ],
 "metadata": {
  "kernelspec": {
   "display_name": "Python 3",
   "language": "python",
   "name": "python3"
  },
  "language_info": {
   "codemirror_mode": {
    "name": "ipython",
    "version": 3
   },
   "file_extension": ".py",
   "mimetype": "text/x-python",
   "name": "python",
   "nbconvert_exporter": "python",
   "pygments_lexer": "ipython3",
   "version": "3.7.9"
  }
 },
 "nbformat": 4,
 "nbformat_minor": 4
}
